{
 "cells": [
  {
   "cell_type": "markdown",
   "metadata": {},
   "source": [
    "# Increasing Array\n",
    "You are given an array of n integers. You want to modify the array so that it is increasing, i.e., every element is at least as large as the previous element.\n",
    "On each move, you may increase the value of any element by one. What is the minimum number of moves required?\n",
    "## Input\n",
    "The first input line contains an integer n: the size of the array.\n",
    "Then, the second line contains n integers x_1,x_2,\\ldots,x_n: the contents of the array.\n",
    "## Output\n",
    "Print the minimum number of moves."
   ]
  },
  {
   "cell_type": "code",
   "execution_count": 24,
   "metadata": {},
   "outputs": [
    {
     "name": "stdout",
     "output_type": "stream",
     "text": [
      "0\n"
     ]
    }
   ],
   "source": [
    "size = int(input())\n",
    "array = [int(i) for i in input().rsplit(\" \")]\n",
    "moves = 0\n",
    "for i in range(size - 1):\n",
    "    if array[i+1] < array[i]: \n",
    "        moves += array[i] - array[i+1]\n",
    "        array[i+1] += array[i] - array[i+1]\n",
    "print(moves)"
   ]
  }
 ],
 "metadata": {
  "kernelspec": {
   "display_name": "Python 3",
   "language": "python",
   "name": "python3"
  },
  "language_info": {
   "codemirror_mode": {
    "name": "ipython",
    "version": 3
   },
   "file_extension": ".py",
   "mimetype": "text/x-python",
   "name": "python",
   "nbconvert_exporter": "python",
   "pygments_lexer": "ipython3",
   "version": "3.11.5"
  }
 },
 "nbformat": 4,
 "nbformat_minor": 2
}

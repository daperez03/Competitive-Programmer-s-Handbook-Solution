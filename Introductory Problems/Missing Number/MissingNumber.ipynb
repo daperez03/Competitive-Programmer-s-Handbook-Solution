{
 "cells": [
  {
   "cell_type": "markdown",
   "metadata": {},
   "source": [
    "# Missing Number\n",
    "You are given all numbers between 1,2,...,n except one. Your task is to find the missing number.\n",
    "## Input\n",
    "The first input line contains an integer n.\n",
    "The second line contains n-1 numbers. Each number is distinct and between 1 and n (inclusive).\n",
    "## Output\n",
    "Print the missing number."
   ]
  },
  {
   "cell_type": "code",
   "execution_count": null,
   "metadata": {},
   "outputs": [],
   "source": [
    "n = int(input())\n",
    "inputs = [int(i) for i in input().rsplit(\" \")]\n",
    "inputs.sort()\n",
    "for i in range(n - 1):\n",
    "    if i+1 != inputs[i]:\n",
    "        print(i+1)\n",
    "        exit()\n",
    "print(n)"
   ]
  }
 ],
 "metadata": {
  "kernelspec": {
   "display_name": "Python 3",
   "language": "python",
   "name": "python3"
  },
  "language_info": {
   "codemirror_mode": {
    "name": "ipython",
    "version": 3
   },
   "file_extension": ".py",
   "mimetype": "text/x-python",
   "name": "python",
   "nbconvert_exporter": "python",
   "pygments_lexer": "ipython3",
   "version": "3.11.5"
  }
 },
 "nbformat": 4,
 "nbformat_minor": 2
}

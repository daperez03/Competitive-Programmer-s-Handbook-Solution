{
 "cells": [
  {
   "cell_type": "markdown",
   "metadata": {},
   "source": [
    "# Permutations\n",
    "A permutation of integers 1,2,...,n is called beautiful if there are no adjacent elements whose difference is 1.\n",
    "Given n, construct a beautiful permutation if such a permutation exists.\n",
    "## Input\n",
    "The only input line contains an integer n.\n",
    "## Output\n",
    "Print a beautiful permutation of integers 1,2,\\ldots,n. If there are several solutions, you may print any of them. If there are no solutions, print \"NO SOLUTION\"."
   ]
  },
  {
   "cell_type": "code",
   "execution_count": 7,
   "metadata": {},
   "outputs": [
    {
     "name": "stdout",
     "output_type": "stream",
     "text": [
      "4 2 3 1 "
     ]
    }
   ],
   "source": [
    "n = int(input())\n",
    "\n",
    "if n == 1:\n",
    "    print(1)\n",
    "elif n > 1 and n < 4:\n",
    "    print(\"NO SOLUTION\")\n",
    "else:\n",
    "    for i in range(2, n - n % 2 + 1, 2):\n",
    "        print(i, end=\" \")\n",
    "    for i in range(1, n + (n % 2 - 1) + 1, 2):\n",
    "        print(i, end=\" \")"
   ]
  }
 ],
 "metadata": {
  "kernelspec": {
   "display_name": "Python 3",
   "language": "python",
   "name": "python3"
  },
  "language_info": {
   "codemirror_mode": {
    "name": "ipython",
    "version": 3
   },
   "file_extension": ".py",
   "mimetype": "text/x-python",
   "name": "python",
   "nbconvert_exporter": "python",
   "pygments_lexer": "ipython3",
   "version": "3.11.5"
  }
 },
 "nbformat": 4,
 "nbformat_minor": 2
}

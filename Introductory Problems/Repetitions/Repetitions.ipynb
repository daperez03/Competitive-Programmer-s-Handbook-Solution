{
 "cells": [
  {
   "cell_type": "markdown",
   "metadata": {},
   "source": [
    "# Repetitions\n",
    "You are given a DNA sequence: a string consisting of characters A, C, G, and T. Your task is to find the longest repetition in the sequence. This is a maximum-length substring containing only one type of character.\n",
    "## Input\n",
    "The only input line contains a string of n characters.\n",
    "## Output\n",
    "Print one integer: the length of the longest repetition."
   ]
  },
  {
   "cell_type": "code",
   "execution_count": null,
   "metadata": {},
   "outputs": [],
   "source": [
    "inpt = input()\n",
    "count = 0\n",
    "maxLen = 0\n",
    "previous = ''\n",
    "\n",
    "for i in inpt:\n",
    "    if previous != i:\n",
    "        previous = i\n",
    "        count = 0\n",
    "    count += 1\n",
    "    if maxLen < count : maxLen = count\n",
    "\n",
    "print(maxLen)"
   ]
  }
 ],
 "metadata": {
  "kernelspec": {
   "display_name": "Python 3",
   "language": "python",
   "name": "python3"
  },
  "language_info": {
   "codemirror_mode": {
    "name": "ipython",
    "version": 3
   },
   "file_extension": ".py",
   "mimetype": "text/x-python",
   "name": "python",
   "nbconvert_exporter": "python",
   "pygments_lexer": "ipython3",
   "version": "3.11.5"
  }
 },
 "nbformat": 4,
 "nbformat_minor": 2
}

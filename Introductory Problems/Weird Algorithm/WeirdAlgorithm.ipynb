{
 "cells": [
  {
   "cell_type": "markdown",
   "metadata": {},
   "source": [
    "# Weird Algorithm\n",
    "Consider an algorithm that takes as input a positive integer n. If n is even, the algorithm divides it by two, and if n is odd, the algorithm multiplies it by three and adds one. The algorithm repeats this, until n is one. For example, the sequence for n=3 is as follows:\n",
    "$$ 3 \\rightarrow 10 \\rightarrow 5 \\rightarrow 16 \\rightarrow 8 \\rightarrow 4 \\rightarrow 2 \\rightarrow 1$$\n",
    "Your task is to simulate the execution of the algorithm for a given value of n.\n",
    "Input\n",
    "The only input line contains an integer n.\n",
    "Output\n",
    "Print a line that contains all values of n during the algorithm."
   ]
  },
  {
   "cell_type": "code",
   "execution_count": 3,
   "metadata": {},
   "outputs": [
    {
     "name": "stdout",
     "output_type": "stream",
     "text": [
      "15 46 23 70 35 106 53 160 80 40 20 10 5 16 8 4 2 1\n"
     ]
    }
   ],
   "source": [
    "n = int(input())\n",
    "while(n != 1):\n",
    "    print(int(n), end=\" \")\n",
    "    if (n % 2) == 0:\n",
    "        n = n / 2\n",
    "    else:\n",
    "        n = n * 3 + 1\n",
    "print(1)\n"
   ]
  }
 ],
 "metadata": {
  "kernelspec": {
   "display_name": "Python 3",
   "language": "python",
   "name": "python3"
  },
  "language_info": {
   "codemirror_mode": {
    "name": "ipython",
    "version": 3
   },
   "file_extension": ".py",
   "mimetype": "text/x-python",
   "name": "python",
   "nbconvert_exporter": "python",
   "pygments_lexer": "ipython3",
   "version": "3.11.5"
  }
 },
 "nbformat": 4,
 "nbformat_minor": 2
}
